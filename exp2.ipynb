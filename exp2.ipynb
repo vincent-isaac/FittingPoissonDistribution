{
 "cells": [
  {
   "cell_type": "code",
   "execution_count": 7,
   "metadata": {},
   "outputs": [
    {
     "name": "stdout",
     "output_type": "stream",
     "text": [
      "  X P(X=x) Obs.Fr  Ex.Fre   xi \n",
      "----------------------------------\n",
      "0.00 0.00  153.00   0.00  inf\n",
      "1.00 0.37  169.00   162.71  0.24\n",
      "2.00 0.37  72.00   162.71  50.57\n",
      "3.00 0.18  31.00   81.35  31.17\n",
      "4.00 0.06  12.00   27.12  8.43\n",
      "5.00 0.02  6.00   6.78  0.09\n",
      "6.00 0.00  2.00   1.36  0.31\n",
      "----------------------------------\n",
      "Calculated value of Chi square is  inf\n",
      "Table value of Chi square at 1  level is 16.81\n",
      "The given data cannot be fitted in Poisson distribution at 1% LOS\n"
     ]
    },
    {
     "name": "stderr",
     "output_type": "stream",
     "text": [
      "C:\\Users\\vince\\AppData\\Local\\Temp\\ipykernel_14976\\1936091083.py:15: RuntimeWarning: divide by zero encountered in double_scalars\n",
      "  xi.append((f[x]-E[x])**2/E[x])\n"
     ]
    }
   ],
   "source": [
    "import numpy as np\n",
    "import math\n",
    "import scipy.stats\n",
    "X=[0,1,2,3,4,5,6]\n",
    "f=[153,169,72,31,12,6,2]\n",
    "n=6\n",
    "N=np.sum(f)\n",
    "mean=np.inner(X,f)/N\n",
    "Pr=list(); E=list(); xi=list()\n",
    "print(\"  X P(X=x) Obs.Fr  Ex.Fre   xi \")\n",
    "print(\"----------------------------------\")\n",
    "for x in range(7):\n",
    "    Pr.append(math.exp(-mean)*mean*x/math.factorial(x))\n",
    "    E.append(Pr[x]*N)\n",
    "    xi.append((f[x]-E[x])**2/E[x])\n",
    "    print(\"%2.2f %2.2f  %4.2f   %3.2f  %3.2f\"%(x,Pr[x],f[x],E[x],xi[x]))\n",
    "print(\"----------------------------------\")\n",
    "cal_chi2=np.sum(xi)\n",
    "print(\"Calculated value of Chi square is %4.2f\"%cal_chi2)\n",
    "tab_chi2=scipy.stats.chi2.ppf(1-.01, df=n)\n",
    "print(\"Table value of Chi square at 1  level is %4.2f\"%tab_chi2)\n",
    "if cal_chi2<tab_chi2:\n",
    "    print(\"The given data can be fitted in Poissson distribution at 1% LOS\")\n",
    "else:\n",
    "    print(\"The given data cannot be fitted in Poisson distribution at 1% LOS\")"
   ]
  },
  {
   "cell_type": "code",
   "execution_count": null,
   "metadata": {},
   "outputs": [],
   "source": []
  }
 ],
 "metadata": {
  "interpreter": {
   "hash": "678016f98d5c903ec0a18e255b5fec898077ad2857c84cb65e93109e9fc4db9d"
  },
  "kernelspec": {
   "display_name": "Python 3.10.4 64-bit",
   "language": "python",
   "name": "python3"
  },
  "language_info": {
   "codemirror_mode": {
    "name": "ipython",
    "version": 3
   },
   "file_extension": ".py",
   "mimetype": "text/x-python",
   "name": "python",
   "nbconvert_exporter": "python",
   "pygments_lexer": "ipython3",
   "version": "3.10.4"
  },
  "orig_nbformat": 4
 },
 "nbformat": 4,
 "nbformat_minor": 2
}
